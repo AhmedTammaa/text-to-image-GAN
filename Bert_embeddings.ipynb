{
 "cells": [
  {
   "cell_type": "code",
   "execution_count": 1,
   "metadata": {},
   "outputs": [],
   "source": [
    "from BertEmbedding import EmbeddingCreator"
   ]
  },
  {
   "cell_type": "code",
   "execution_count": 2,
   "metadata": {},
   "outputs": [],
   "source": [
    "emb = EmbeddingCreator()"
   ]
  },
  {
   "cell_type": "code",
   "execution_count": 3,
   "metadata": {
    "scrolled": true
   },
   "outputs": [
    {
     "name": "stdout",
     "output_type": "stream",
     "text": [
      "<class 'numpy.ndarray'>\n",
      "11788\n"
     ]
    },
    {
     "name": "stderr",
     "output_type": "stream",
     "text": [
      "11788it [6:24:37,  1.96s/it]\n"
     ]
    }
   ],
   "source": [
    "word_vector_dict = emb.createEmbeddingFirstTime('bert_embeddings')"
   ]
  },
  {
   "cell_type": "code",
   "execution_count": 4,
   "metadata": {},
   "outputs": [
    {
     "data": {
      "text/plain": [
       "array([-8.78977716e-01, -1.97590902e-01,  2.13166788e-01,  7.54236996e-01,\n",
       "       -1.18940644e-01, -1.29596084e-01,  9.07947600e-01,  1.93362355e-01,\n",
       "       -1.46138385e-01, -9.99735057e-01, -3.29858691e-01,  5.88665545e-01,\n",
       "        9.78756845e-01, -2.28454977e-01,  9.13416207e-01, -6.13190532e-01,\n",
       "       -4.36356068e-01, -5.24157166e-01,  3.77056271e-01, -8.35626304e-01,\n",
       "        5.91863513e-01,  9.28167820e-01,  4.18763012e-01,  2.06000060e-01,\n",
       "        3.22302103e-01,  6.76004529e-01, -7.19706118e-01,  9.22298491e-01,\n",
       "        9.47980881e-01,  6.74808383e-01, -7.30149567e-01,  1.32262722e-01,\n",
       "       -9.84376788e-01, -1.87163115e-01, -1.75508961e-01, -9.81383026e-01,\n",
       "        1.79733932e-01, -7.68138051e-01, -6.38554469e-02,  4.49661799e-02,\n",
       "       -8.80247772e-01,  3.02370667e-01,  9.96934891e-01,  3.25311989e-01,\n",
       "        1.97291151e-01, -2.44889617e-01, -9.99529541e-01,  1.96279228e-01,\n",
       "       -8.85007322e-01,  1.96334869e-01,  1.57061487e-01,  8.37927237e-02,\n",
       "        4.05753814e-02,  3.95268708e-01,  3.50301921e-01,  2.32217193e-01,\n",
       "       -1.20794274e-01,  9.43146646e-02, -7.31194839e-02, -5.04448950e-01,\n",
       "       -5.09526193e-01,  2.48510778e-01, -2.27310419e-01, -8.76442373e-01,\n",
       "        3.24337095e-01, -4.72935796e-01, -1.29395768e-01, -2.18769863e-01,\n",
       "        6.31767735e-02, -1.00088745e-01,  8.35696399e-01,  1.65774047e-01,\n",
       "        3.84492338e-01, -7.77128994e-01, -3.08733791e-01,  1.17393762e-01,\n",
       "       -5.29361069e-01,  9.99979198e-01, -5.73909938e-01, -9.77258682e-01,\n",
       "        3.51692773e-02, -2.99890339e-01,  4.23434347e-01,  5.77759326e-01,\n",
       "       -5.03444731e-01, -9.99913275e-01,  4.11291391e-01, -1.10240810e-01,\n",
       "       -9.87116098e-01,  1.46743521e-01,  4.31169569e-01, -2.13786364e-01,\n",
       "       -4.38937813e-01,  3.68589044e-01, -3.37036997e-02, -3.14432323e-01,\n",
       "       -3.18528771e-01, -4.29806262e-02, -2.22654358e-01, -1.75559923e-01,\n",
       "        4.32754271e-02, -1.44061342e-01, -6.17699437e-02, -2.68173218e-01,\n",
       "        1.85678944e-01, -3.01312268e-01, -4.97862756e-01,  1.74177304e-01,\n",
       "       -3.49442571e-01,  6.04636490e-01,  2.94455498e-01, -2.20169902e-01,\n",
       "        3.77725869e-01, -9.56659377e-01,  5.41090548e-01, -1.12671971e-01,\n",
       "       -9.77593124e-01, -4.73391354e-01, -9.85580504e-01,  7.02278852e-01,\n",
       "       -2.22852021e-01, -1.22629374e-01,  9.44091439e-01,  2.90409714e-01,\n",
       "        2.25036398e-01, -2.82153729e-02, -1.81627676e-01, -9.99990582e-01,\n",
       "       -5.01813233e-01, -4.24902439e-01,  2.74399728e-01, -2.10112244e-01,\n",
       "       -9.70274448e-01, -9.47483301e-01,  4.98412877e-01,  9.37442005e-01,\n",
       "        1.28877342e-01,  9.93833899e-01, -2.67671883e-01,  9.24105465e-01,\n",
       "        1.01580024e-01, -3.63929898e-01,  4.97039855e-02, -3.52721155e-01,\n",
       "        4.95424598e-01,  5.50880969e-01, -7.28826702e-01,  1.93599880e-01,\n",
       "       -9.09045935e-02,  8.96941423e-02, -1.93857133e-01, -3.06922883e-01,\n",
       "        1.30262852e-01, -9.16336834e-01, -3.23904246e-01,  9.44715381e-01,\n",
       "        9.06495303e-02,  9.52123553e-02,  6.36632800e-01, -2.86694676e-01,\n",
       "       -4.66801852e-01,  7.94921637e-01,  5.13830185e-01,  2.89419353e-01,\n",
       "        4.11736518e-02,  3.17677796e-01, -2.87704647e-01,  4.24507052e-01,\n",
       "       -8.46630573e-01,  1.00413904e-01,  3.16503793e-01, -2.87116796e-01,\n",
       "        1.10475220e-01, -9.75941241e-01, -3.49316895e-01,  4.52254564e-01,\n",
       "        9.85892355e-01,  7.45893121e-01,  7.53859952e-02,  2.99047023e-01,\n",
       "       -1.21740013e-01,  4.27992612e-01, -9.34649944e-01,  9.71388221e-01,\n",
       "       -2.18990237e-01,  1.27863124e-01,  4.30303395e-01, -2.69864261e-01,\n",
       "       -8.77586901e-01, -3.73195440e-01,  8.39556217e-01, -2.51613826e-01,\n",
       "       -8.59116256e-01, -5.76407388e-02, -3.75958323e-01, -3.38101804e-01,\n",
       "       -1.89011276e-01,  6.55612946e-01, -1.69217929e-01, -3.16093922e-01,\n",
       "       -8.61270800e-02,  8.76372218e-01,  9.67775404e-01,  8.03786337e-01,\n",
       "       -2.72281170e-01,  5.76129258e-01, -9.01730657e-01, -5.26426613e-01,\n",
       "        1.03059471e-01,  1.96011901e-01,  1.63804501e-01,  9.91845250e-01,\n",
       "        2.59235743e-02, -1.35573000e-01, -8.83210897e-01, -9.80965555e-01,\n",
       "        1.21488385e-02, -8.91743124e-01, -3.70384306e-02, -6.38854444e-01,\n",
       "        3.30988109e-01,  5.20656049e-01, -2.46768460e-01,  3.67305994e-01,\n",
       "       -9.82607126e-01, -7.59992778e-01,  2.87673414e-01, -2.83913523e-01,\n",
       "        2.99149126e-01, -1.12425335e-01,  2.21461251e-01,  2.48542532e-01,\n",
       "       -4.99987215e-01,  8.01586568e-01,  8.63611042e-01,  1.05375588e-01,\n",
       "       -7.89089084e-01,  8.41985583e-01, -2.52303302e-01,  8.39765012e-01,\n",
       "       -5.88941336e-01,  9.64889944e-01,  3.46082389e-01,  6.70515776e-01,\n",
       "       -9.34221089e-01,  3.40277702e-01, -8.87955427e-01,  1.88378975e-01,\n",
       "       -2.03971505e-01, -7.03833342e-01, -1.16942383e-01,  4.21180844e-01,\n",
       "        2.98738539e-01,  7.55977452e-01, -6.00282669e-01,  9.94712830e-01,\n",
       "       -1.98732629e-01, -9.46631014e-01,  3.71947944e-01, -6.28188923e-02,\n",
       "       -9.83020306e-01,  3.46600562e-01,  2.80526966e-01, -2.08017856e-01,\n",
       "       -3.73553038e-01, -3.41758698e-01, -9.45743382e-01,  9.13508892e-01,\n",
       "        1.36117533e-01,  9.82688844e-01,  1.55390441e-01, -9.35015261e-01,\n",
       "       -3.81869853e-01, -9.01688337e-01, -9.61851552e-02, -2.44134627e-02,\n",
       "        4.67513174e-01, -1.37271449e-01, -9.40352380e-01,  4.35191244e-01,\n",
       "        5.09397745e-01,  3.92089158e-01,  4.06309992e-01,  9.93792295e-01,\n",
       "        9.95065629e-01,  9.70342278e-01,  8.57477486e-01,  8.43164146e-01,\n",
       "       -8.51976454e-01,  1.95197538e-01,  9.99764860e-01, -6.93183422e-01,\n",
       "       -9.99726355e-01, -9.27149236e-01, -5.73983550e-01,  4.91284817e-01,\n",
       "       -9.99988675e-01, -4.70691025e-02, -5.46847358e-02, -9.17384982e-01,\n",
       "       -1.27203122e-01,  9.71671164e-01,  9.85643685e-01, -9.99959052e-01,\n",
       "        8.13944101e-01,  9.38490152e-01, -5.08862078e-01,  5.48653960e-01,\n",
       "       -1.20806374e-01,  9.67561543e-01,  3.82365793e-01,  2.20916629e-01,\n",
       "       -1.35459706e-01,  2.10234001e-01, -2.00022846e-01, -8.37393343e-01,\n",
       "        3.99656072e-02,  1.14871375e-01,  6.05281174e-01,  1.83856979e-01,\n",
       "       -6.77580655e-01, -8.89551461e-01, -9.01453644e-02, -1.14371426e-01,\n",
       "       -1.99791551e-01, -9.46545422e-01, -1.10489331e-01, -5.66388741e-02,\n",
       "        7.35914171e-01,  9.06932056e-02,  1.92503870e-01, -7.47049689e-01,\n",
       "        1.95236668e-01, -4.90918577e-01,  3.14998239e-01,  5.23029089e-01,\n",
       "       -8.78352046e-01, -6.80557013e-01, -6.32261038e-01, -2.29856834e-01,\n",
       "        2.89702922e-01, -9.31157351e-01,  9.61452007e-01, -2.21216097e-01,\n",
       "        3.48084509e-01,  9.99967635e-01, -9.92465317e-02, -8.62098873e-01,\n",
       "        3.92447293e-01,  2.06620231e-01, -4.26563472e-01,  9.99947011e-01,\n",
       "        5.81885099e-01, -9.73580420e-01, -3.70622337e-01,  1.00363985e-01,\n",
       "       -3.30714166e-01, -3.84411722e-01,  9.96339083e-01, -1.70068994e-01,\n",
       "        1.52060717e-01,  1.23444952e-01,  9.69946444e-01, -9.85640466e-01,\n",
       "        4.80560213e-01, -8.86154473e-01, -9.56050754e-01,  9.45337713e-01,\n",
       "        9.39856946e-01, -1.69553965e-01, -6.33010268e-01,  5.53178340e-02,\n",
       "        1.76880896e-01,  3.02851915e-01, -9.26464140e-01,  7.20788300e-01,\n",
       "        5.71470439e-01, -1.79176107e-01,  9.00365710e-01, -8.91986191e-01,\n",
       "       -3.43544334e-01,  3.14179391e-01, -2.19788961e-02,  2.22607940e-01,\n",
       "        2.22644031e-01,  4.30490583e-01, -2.97762662e-01,  2.08888315e-02,\n",
       "       -2.21667171e-01, -1.43613992e-02, -9.48363185e-01,  2.37116054e-01,\n",
       "        9.99930501e-01,  3.75599489e-02, -1.04361713e-01,  5.62126189e-02,\n",
       "       -6.33270666e-02, -2.27960438e-01,  2.39066854e-01,  3.80874753e-01,\n",
       "       -2.32520774e-01, -7.29440808e-01,  1.18502304e-01, -9.27882671e-01,\n",
       "       -9.79840875e-01,  7.57881939e-01,  1.34655714e-01, -2.31594548e-01,\n",
       "        9.97875452e-01,  3.33548307e-01,  1.66939661e-01, -8.90471712e-02,\n",
       "        5.75361967e-01, -8.25398266e-02,  3.98210019e-01, -3.79295468e-01,\n",
       "        9.70488250e-01, -2.56890446e-01,  4.02402312e-01,  8.37343097e-01,\n",
       "        1.96787007e-02, -3.26790482e-01, -5.77957630e-01,  4.69872989e-02,\n",
       "       -9.05739427e-01, -2.49321293e-02, -9.53243315e-01,  9.63671267e-01,\n",
       "        1.19105786e-01,  2.95849621e-01,  1.54249087e-01,  2.08184451e-01,\n",
       "        9.99961376e-01,  9.91263911e-02,  6.25100434e-01, -7.43396819e-01,\n",
       "        8.74423623e-01, -7.83091545e-01, -7.00723410e-01, -2.44091615e-01,\n",
       "        8.12957063e-03,  2.06750125e-01, -2.05506638e-01,  3.21527094e-01,\n",
       "       -9.69609916e-01, -9.36540216e-02,  1.12801164e-01, -9.65974867e-01,\n",
       "       -9.88229573e-01,  3.16714019e-01,  7.56012559e-01,  3.82697880e-02,\n",
       "       -5.45632303e-01, -6.41942561e-01, -6.02784812e-01,  3.76067132e-01,\n",
       "       -2.05683097e-01, -9.29329574e-01,  4.86793995e-01, -2.00470701e-01,\n",
       "        4.65776563e-01, -2.59031445e-01,  4.47751284e-01, -3.90796274e-01,\n",
       "        8.26106548e-01,  4.31252033e-01,  8.72085765e-02, -1.11860901e-01,\n",
       "       -8.37980211e-01,  8.33578289e-01, -8.09091687e-01, -2.43844420e-01,\n",
       "       -1.26734093e-01,  9.99986410e-01, -3.84447843e-01,  1.60903111e-01,\n",
       "        7.04751730e-01,  6.81451321e-01, -1.18077144e-01,  1.78071052e-01,\n",
       "        8.58883485e-02,  2.11248279e-01,  4.23356652e-01,  3.40705290e-02,\n",
       "       -8.50322783e-01, -2.25032941e-01,  3.69827509e-01, -1.80202261e-01,\n",
       "       -5.12828052e-01,  8.14932764e-01,  8.19653645e-02,  1.83424830e-01,\n",
       "        4.48270254e-02,  1.12467185e-01,  9.97667909e-01, -2.39485115e-01,\n",
       "       -2.12529358e-02, -4.55402225e-01, -7.79487565e-02, -2.29260221e-01,\n",
       "       -6.16400957e-01,  9.99785721e-01,  2.34823227e-01, -1.01399422e-01,\n",
       "       -9.85737681e-01, -1.51539028e-01, -9.11014199e-01,  9.88855183e-01,\n",
       "        8.06283057e-01, -8.13252747e-01,  4.93622452e-01,  5.08329213e-01,\n",
       "       -1.74616799e-02,  7.69135773e-01, -2.66210347e-01, -1.61755770e-01,\n",
       "        7.25182146e-02,  1.39943853e-01,  9.51024771e-01, -4.36042637e-01,\n",
       "       -9.63091791e-01, -5.83112538e-01,  3.74248952e-01, -9.34358656e-01,\n",
       "        8.51284385e-01, -4.72119659e-01, -1.31981343e-01, -2.16704592e-01,\n",
       "        2.26247266e-01,  8.59475791e-01, -1.15921954e-02, -9.69000041e-01,\n",
       "       -1.82420805e-01,  1.26539946e-01,  9.67108190e-01,  1.84292614e-01,\n",
       "       -4.27240819e-01, -9.18745756e-01,  6.79086894e-02,  3.18851352e-01,\n",
       "       -1.33492742e-02, -9.25609946e-01,  9.59896803e-01, -9.75318670e-01,\n",
       "        4.28467661e-01,  9.99830246e-01,  2.72804409e-01, -2.38487229e-01,\n",
       "        2.29255900e-01, -4.56299126e-01,  1.57735258e-01, -2.00268909e-01,\n",
       "        5.81581712e-01, -9.39643085e-01, -1.94240302e-01, -8.44289213e-02,\n",
       "        2.41554424e-01, -1.55846030e-01,  2.78613061e-01,  6.35593414e-01,\n",
       "        1.06435739e-01, -3.73177379e-01, -4.65451956e-01, -1.30658463e-01,\n",
       "        3.28423411e-01,  8.13095987e-01, -1.22424066e-01, -1.73450276e-01,\n",
       "        1.54503554e-01, -1.46314591e-01, -8.88672352e-01, -2.13874817e-01,\n",
       "       -2.26799190e-01, -9.58648443e-01,  6.17624640e-01, -9.99976158e-01,\n",
       "       -9.98241454e-02, -5.67473054e-01, -1.87532857e-01,  8.13173354e-01,\n",
       "       -6.50925785e-02, -6.86349794e-02, -7.29223669e-01,  1.80537134e-01,\n",
       "        7.94336975e-01,  7.25491822e-01, -3.03477675e-01, -2.88606912e-01,\n",
       "       -7.56463051e-01,  2.13781774e-01, -7.03176707e-02,  1.49477229e-01,\n",
       "       -6.44458756e-02,  6.24324739e-01, -1.27874881e-01,  9.99988616e-01,\n",
       "        2.50910260e-02, -5.24020553e-01, -9.61060286e-01,  2.13453636e-01,\n",
       "       -2.56478131e-01,  9.96852636e-01, -9.08579051e-01, -9.45552766e-01,\n",
       "        2.17755601e-01, -4.46186960e-01, -7.90411115e-01,  1.78546637e-01,\n",
       "        5.77303395e-02, -6.42566144e-01, -5.25503814e-01,  9.30032670e-01,\n",
       "        8.73212576e-01, -3.89470309e-01,  3.44171882e-01, -2.45411173e-01,\n",
       "       -4.42935467e-01,  7.15043694e-02, -4.34206426e-03,  9.83369827e-01,\n",
       "        1.99645370e-01,  8.88796329e-01,  6.93187118e-01,  1.20886900e-01,\n",
       "        9.43287790e-01,  1.56575128e-01,  7.03293025e-01,  1.43060222e-01,\n",
       "        9.99821961e-01,  2.39730909e-01, -9.34081733e-01,  1.44520104e-02,\n",
       "       -9.69832122e-01, -1.83813721e-01, -9.34766769e-01,  1.38479099e-01,\n",
       "        1.08260855e-01,  8.73100996e-01, -3.55224013e-01,  9.57129776e-01,\n",
       "       -2.87790447e-02,  1.03962775e-02, -3.32887173e-01,  3.95443141e-01,\n",
       "        2.85738170e-01, -9.09843147e-01, -9.81507003e-01, -9.86271679e-01,\n",
       "        4.05659527e-01, -3.76526654e-01,  1.00627141e-02,  2.34938785e-01,\n",
       "        1.15555294e-01,  2.91168958e-01,  3.15942109e-01, -9.99659359e-01,\n",
       "        9.13383782e-01,  4.17624503e-01, -1.87749788e-01,  9.56834674e-01,\n",
       "        2.07702637e-01,  2.94505388e-01,  2.40282267e-01, -9.85155404e-01,\n",
       "       -9.53707814e-01, -2.69390464e-01, -1.73335403e-01,  8.14089179e-01,\n",
       "        6.11080289e-01,  8.11663747e-01,  3.89083117e-01, -4.44296181e-01,\n",
       "       -4.71925735e-02,  6.50440231e-02,  1.70318648e-01, -9.89920676e-01,\n",
       "        3.73452574e-01,  2.57839590e-01, -9.58584428e-01,  9.48131442e-01,\n",
       "       -6.44763529e-01, -2.15640321e-01,  6.71066761e-01,  9.58005860e-02,\n",
       "        9.35160398e-01,  6.93766952e-01,  5.16287088e-01,  6.13250360e-02,\n",
       "        5.17133415e-01,  8.95781457e-01,  9.35916126e-01,  9.86405730e-01,\n",
       "        4.22552228e-02,  7.55316913e-01,  6.99118897e-02,  2.88005620e-01,\n",
       "        4.30629820e-01, -9.33019042e-01,  1.13208383e-01,  9.55662131e-02,\n",
       "       -1.38839170e-01,  2.55236894e-01, -2.49931261e-01, -9.32098508e-01,\n",
       "        6.57699287e-01, -2.04437464e-01,  5.82062304e-01, -2.66123950e-01,\n",
       "        5.96734285e-02, -4.10791576e-01, -3.06345165e-01, -7.49289155e-01,\n",
       "       -5.64594865e-01,  4.72511053e-01,  4.80389506e-01,  9.16488767e-01,\n",
       "        1.50266215e-01, -4.18758616e-02, -7.04416215e-01, -1.08744867e-01,\n",
       "        3.39152664e-01, -9.23325717e-01,  9.16433573e-01, -8.71502161e-02,\n",
       "        5.82188129e-01, -9.49481269e-04,  1.24813067e-02,  5.11054456e-01,\n",
       "       -3.11989307e-01, -3.25200796e-01, -2.16746494e-01, -7.71212399e-01,\n",
       "        7.95103192e-01, -4.19239551e-02, -5.04963100e-01, -6.03480279e-01,\n",
       "        6.74053013e-01,  3.11526835e-01,  9.24546003e-01,  2.12061346e-01,\n",
       "        1.00189662e-02, -1.59297094e-01, -1.23849437e-01,  1.90697521e-01,\n",
       "       -4.50655609e-01, -9.99652147e-01,  3.21076840e-01,  6.45560250e-02,\n",
       "       -1.22805364e-01, -4.34810907e-01,  1.75508540e-02, -2.00180545e-01,\n",
       "       -9.69175279e-01, -1.35141775e-01, -1.24179609e-01,  9.35402885e-02,\n",
       "       -4.57196832e-01, -5.42039394e-01,  3.75457168e-01,  2.97950149e-01,\n",
       "        5.36528111e-01,  8.66472721e-01, -2.66016752e-01,  6.17399991e-01,\n",
       "        5.09490550e-01,  1.68155953e-01, -5.00668466e-01,  8.86403739e-01],\n",
       "      dtype=float32)"
      ]
     },
     "execution_count": 4,
     "metadata": {},
     "output_type": "execute_result"
    }
   ],
   "source": [
    "word_vector_dict['Crested_Auklet_0029_1824.jpg']"
   ]
  },
  {
   "cell_type": "code",
   "execution_count": 5,
   "metadata": {},
   "outputs": [
    {
     "name": "stdout",
     "output_type": "stream",
     "text": [
      "<class 'numpy.ndarray'>\n",
      "1\n"
     ]
    },
    {
     "name": "stderr",
     "output_type": "stream",
     "text": [
      "1it [00:02,  2.59s/it]\n"
     ]
    },
    {
     "data": {
      "text/plain": [
       "array([[0., 0., 0., 0., 0., 0., 0., 0., 0., 0., 0., 0., 0., 0., 0., 0.,\n",
       "        0., 0., 0., 0., 0., 0., 0., 0., 0., 0., 0., 0., 0., 0., 0., 0.,\n",
       "        0., 0., 0., 0., 0., 0., 0., 0., 0., 0., 0., 0., 0., 0., 0., 0.,\n",
       "        0., 0., 0., 0., 0., 0., 0., 0., 0., 0., 0., 0., 0., 0., 0., 0.,\n",
       "        0., 0., 0., 0., 0., 0., 0., 0., 0., 0., 0., 0., 0., 0., 0., 0.,\n",
       "        0., 0., 0., 0., 0., 0., 0., 0., 0., 0., 0., 0., 0., 0., 0., 0.,\n",
       "        0., 0., 0., 0., 0., 0., 0., 0., 0., 0., 0., 0., 0., 0., 0., 0.,\n",
       "        0., 0., 0., 0., 0., 0., 0., 0., 0., 0., 0., 0., 0., 0., 0., 0.,\n",
       "        0., 0., 0., 0., 0., 0., 0., 0., 0., 0., 0., 0., 0., 0., 0., 0.,\n",
       "        0., 0., 0., 0., 0., 0., 0., 0., 0., 0., 0., 0., 0., 0., 0., 0.,\n",
       "        0., 0., 0., 0., 0., 0., 0., 0., 0., 0., 0., 0., 0., 0., 0., 0.,\n",
       "        0., 0., 0., 0., 0., 0., 0., 0., 0., 0., 0., 0., 0., 0., 0., 0.,\n",
       "        0., 0., 0., 0., 0., 0., 0., 0., 0., 0., 0., 0., 0., 0., 0., 0.,\n",
       "        0., 0., 0., 0., 0., 0., 0., 0., 0., 0., 0., 0., 0., 0., 0., 0.,\n",
       "        0., 0., 0., 0., 0., 0., 0., 0., 0., 0., 0., 0., 0., 0., 0., 0.,\n",
       "        0., 0., 0., 0., 0., 0., 0., 0., 0., 0., 0., 0., 0., 0., 0., 0.,\n",
       "        0., 0., 0., 0., 0., 0., 0., 0., 0., 0., 0., 0., 0., 0., 0., 0.,\n",
       "        0., 0., 0., 0., 0., 0., 0., 0., 0., 0., 0., 0., 0., 0., 0., 0.,\n",
       "        0., 0., 0., 0., 0., 0., 0., 0., 0., 0., 0., 0., 0., 0., 0., 0.,\n",
       "        0., 0., 0., 0., 0., 0., 0., 0., 0., 0., 0., 0., 0., 0., 0., 0.,\n",
       "        0., 0., 0., 0., 0., 0., 0., 0., 0., 0., 0., 0., 0., 0., 0., 0.,\n",
       "        0., 0., 0., 0., 0., 0., 0., 0., 0., 0., 0., 0., 0., 0., 0., 0.,\n",
       "        0., 0., 0., 0., 0., 0., 0., 0., 0., 0., 0., 0., 0., 0., 0., 0.,\n",
       "        0., 0., 0., 0., 0., 0., 0., 0., 0., 0., 0., 0., 0., 0., 0., 0.,\n",
       "        0., 0., 0., 0., 0., 0., 0., 0., 0., 0., 0., 0., 0., 0., 0., 0.,\n",
       "        0., 0., 0., 0., 0., 0., 0., 0., 0., 0., 0., 0., 0., 0., 0., 0.,\n",
       "        0., 0., 0., 0., 0., 0., 0., 0., 0., 0., 0., 0., 0., 0., 0., 0.,\n",
       "        0., 0., 0., 0., 0., 0., 0., 0., 0., 0., 0., 0., 0., 0., 0., 0.,\n",
       "        0., 0., 0., 0., 0., 0., 0., 0., 0., 0., 0., 0., 0., 0., 0., 0.,\n",
       "        0., 0., 0., 0., 0., 0., 0., 0., 0., 0., 0., 0., 0., 0., 0., 0.,\n",
       "        0., 0., 0., 0., 0., 0., 0., 0., 0., 0., 0., 0., 0., 0., 0., 0.,\n",
       "        0., 0., 0., 0., 0., 0., 0., 0., 0., 0., 0., 0., 0., 0., 0., 0.,\n",
       "        0., 0., 0., 0., 0., 0., 0., 0., 0., 0., 0., 0., 0., 0., 0., 0.,\n",
       "        0., 0., 0., 0., 0., 0., 0., 0., 0., 0., 0., 0., 0., 0., 0., 0.,\n",
       "        0., 0., 0., 0., 0., 0., 0., 0., 0., 0., 0., 0., 0., 0., 0., 0.,\n",
       "        0., 0., 0., 0., 0., 0., 0., 0., 0., 0., 0., 0., 0., 0., 0., 0.,\n",
       "        0., 0., 0., 0., 0., 0., 0., 0., 0., 0., 0., 0., 0., 0., 0., 0.,\n",
       "        0., 0., 0., 0., 0., 0., 0., 0., 0., 0., 0., 0., 0., 0., 0., 0.,\n",
       "        0., 0., 0., 0., 0., 0., 0., 0., 0., 0., 0., 0., 0., 0., 0., 0.,\n",
       "        0., 0., 0., 0., 0., 0., 0., 0., 0., 0., 0., 0., 0., 0., 0., 0.,\n",
       "        0., 0., 0., 0., 0., 0., 0., 0., 0., 0., 0., 0., 0., 0., 0., 0.,\n",
       "        0., 0., 0., 0., 0., 0., 0., 0., 0., 0., 0., 0., 0., 0., 0., 0.,\n",
       "        0., 0., 0., 0., 0., 0., 0., 0., 0., 0., 0., 0., 0., 0., 0., 0.,\n",
       "        0., 0., 0., 0., 0., 0., 0., 0., 0., 0., 0., 0., 0., 0., 0., 0.,\n",
       "        0., 0., 0., 0., 0., 0., 0., 0., 0., 0., 0., 0., 0., 0., 0., 0.,\n",
       "        0., 0., 0., 0., 0., 0., 0., 0., 0., 0., 0., 0., 0., 0., 0., 0.,\n",
       "        0., 0., 0., 0., 0., 0., 0., 0., 0., 0., 0., 0., 0., 0., 0., 0.,\n",
       "        0., 0., 0., 0., 0., 0., 0., 0., 0., 0., 0., 0., 0., 0., 0., 0.]],\n",
       "      dtype=float32)"
      ]
     },
     "execution_count": 5,
     "metadata": {},
     "output_type": "execute_result"
    }
   ],
   "source": [
    "word_vector_dict['Crested_Auklet_0029_1824.jpg'] - emb.createCustomEmbeddings('the bill of the bird is bright orange and the bird has white eye rings as well as black body feathers.')"
   ]
  },
  {
   "cell_type": "code",
   "execution_count": null,
   "metadata": {},
   "outputs": [],
   "source": [
    "%run bert_based_model_batnorm-emb.ipynb"
   ]
  },
  {
   "cell_type": "code",
   "execution_count": 9,
   "metadata": {},
   "outputs": [],
   "source": [
    "import pandas as pd"
   ]
  },
  {
   "cell_type": "code",
   "execution_count": 15,
   "metadata": {},
   "outputs": [],
   "source": [
    "import numpy as np"
   ]
  },
  {
   "cell_type": "code",
   "execution_count": 17,
   "metadata": {},
   "outputs": [],
   "source": [
    "sentence = 'hello'\n",
    "t = np.array(sentence)"
   ]
  },
  {
   "cell_type": "code",
   "execution_count": 18,
   "metadata": {},
   "outputs": [
    {
     "data": {
      "text/plain": [
       "array('hello', dtype='<U5')"
      ]
     },
     "execution_count": 18,
     "metadata": {},
     "output_type": "execute_result"
    }
   ],
   "source": [
    "t"
   ]
  },
  {
   "cell_type": "code",
   "execution_count": 10,
   "metadata": {},
   "outputs": [],
   "source": [
    "df = pd.read_csv('final.csv')h\n",
    "df = df[1:10]"
   ]
  },
  {
   "cell_type": "code",
   "execution_count": 14,
   "metadata": {},
   "outputs": [
    {
     "data": {
      "text/plain": [
       "array(['Crested_Auklet_0029_1824.jpg', 'Crested_Auklet_0074_794949.jpg',\n",
       "       'Crested_Auklet_0045_794940.jpg', 'Crested_Auklet_0077_785257.jpg',\n",
       "       'Crested_Auklet_0018_1817.jpg', 'Crested_Auklet_0041_794910.jpg',\n",
       "       'Crested_Auklet_0066_785251.jpg', 'Crested_Auklet_0047_794918.jpg',\n",
       "       'Crested_Auklet_0044_1825.jpg'], dtype=object)"
      ]
     },
     "execution_count": 14,
     "metadata": {},
     "output_type": "execute_result"
    }
   ],
   "source": [
    "df['images'].values"
   ]
  },
  {
   "cell_type": "code",
   "execution_count": 1,
   "metadata": {},
   "outputs": [],
   "source": [
    "import tensorflow_hub as hub\n",
    "import tensorflow_text\n",
    "import pandas as pd\n",
    "import pickle\n",
    "import re\n",
    "import numpy as np\n"
   ]
  },
  {
   "cell_type": "code",
   "execution_count": null,
   "metadata": {},
   "outputs": [],
   "source": []
  },
  {
   "cell_type": "code",
   "execution_count": 2,
   "metadata": {},
   "outputs": [],
   "source": [
    "caps = pd.read_csv('final.csv')"
   ]
  },
  {
   "cell_type": "code",
   "execution_count": 3,
   "metadata": {},
   "outputs": [
    {
     "data": {
      "text/html": [
       "<div>\n",
       "<style scoped>\n",
       "    .dataframe tbody tr th:only-of-type {\n",
       "        vertical-align: middle;\n",
       "    }\n",
       "\n",
       "    .dataframe tbody tr th {\n",
       "        vertical-align: top;\n",
       "    }\n",
       "\n",
       "    .dataframe thead th {\n",
       "        text-align: right;\n",
       "    }\n",
       "</style>\n",
       "<table border=\"1\" class=\"dataframe\">\n",
       "  <thead>\n",
       "    <tr style=\"text-align: right;\">\n",
       "      <th></th>\n",
       "      <th>images</th>\n",
       "      <th>captions</th>\n",
       "    </tr>\n",
       "  </thead>\n",
       "  <tbody>\n",
       "    <tr>\n",
       "      <th>0</th>\n",
       "      <td>Crested_Auklet_0001_794941.jpg</td>\n",
       "      <td>this bird is black all over its body with oran...</td>\n",
       "    </tr>\n",
       "    <tr>\n",
       "      <th>1</th>\n",
       "      <td>Crested_Auklet_0029_1824.jpg</td>\n",
       "      <td>the bill of the bird is bright orange and the ...</td>\n",
       "    </tr>\n",
       "    <tr>\n",
       "      <th>2</th>\n",
       "      <td>Crested_Auklet_0074_794949.jpg</td>\n",
       "      <td>this bird has smooth, dary gray feathers and a...</td>\n",
       "    </tr>\n",
       "    <tr>\n",
       "      <th>3</th>\n",
       "      <td>Crested_Auklet_0045_794940.jpg</td>\n",
       "      <td>this bird's head and body are all gray, but th...</td>\n",
       "    </tr>\n",
       "    <tr>\n",
       "      <th>4</th>\n",
       "      <td>Crested_Auklet_0077_785257.jpg</td>\n",
       "      <td>a large black bird has a gray colored breast, ...</td>\n",
       "    </tr>\n",
       "  </tbody>\n",
       "</table>\n",
       "</div>"
      ],
      "text/plain": [
       "                           images  \\\n",
       "0  Crested_Auklet_0001_794941.jpg   \n",
       "1    Crested_Auklet_0029_1824.jpg   \n",
       "2  Crested_Auklet_0074_794949.jpg   \n",
       "3  Crested_Auklet_0045_794940.jpg   \n",
       "4  Crested_Auklet_0077_785257.jpg   \n",
       "\n",
       "                                            captions  \n",
       "0  this bird is black all over its body with oran...  \n",
       "1  the bill of the bird is bright orange and the ...  \n",
       "2  this bird has smooth, dary gray feathers and a...  \n",
       "3  this bird's head and body are all gray, but th...  \n",
       "4  a large black bird has a gray colored breast, ...  "
      ]
     },
     "execution_count": 3,
     "metadata": {},
     "output_type": "execute_result"
    }
   ],
   "source": [
    "caps.head()"
   ]
  },
  {
   "cell_type": "code",
   "execution_count": 4,
   "metadata": {},
   "outputs": [
    {
     "data": {
      "text/html": [
       "<div>\n",
       "<style scoped>\n",
       "    .dataframe tbody tr th:only-of-type {\n",
       "        vertical-align: middle;\n",
       "    }\n",
       "\n",
       "    .dataframe tbody tr th {\n",
       "        vertical-align: top;\n",
       "    }\n",
       "\n",
       "    .dataframe thead th {\n",
       "        text-align: right;\n",
       "    }\n",
       "</style>\n",
       "<table border=\"1\" class=\"dataframe\">\n",
       "  <thead>\n",
       "    <tr style=\"text-align: right;\">\n",
       "      <th></th>\n",
       "      <th>images</th>\n",
       "      <th>captions</th>\n",
       "    </tr>\n",
       "  </thead>\n",
       "  <tbody>\n",
       "    <tr>\n",
       "      <th>0</th>\n",
       "      <td>Crested_Auklet_0001_794941.jpg</td>\n",
       "      <td>this bird is black all over its body with oran...</td>\n",
       "    </tr>\n",
       "    <tr>\n",
       "      <th>1</th>\n",
       "      <td>Crested_Auklet_0029_1824.jpg</td>\n",
       "      <td>the bill of the bird is bright orange and the ...</td>\n",
       "    </tr>\n",
       "    <tr>\n",
       "      <th>2</th>\n",
       "      <td>Crested_Auklet_0074_794949.jpg</td>\n",
       "      <td>this bird has smooth, dary gray feathers and a...</td>\n",
       "    </tr>\n",
       "    <tr>\n",
       "      <th>3</th>\n",
       "      <td>Crested_Auklet_0045_794940.jpg</td>\n",
       "      <td>this bird's head and body are all gray, but th...</td>\n",
       "    </tr>\n",
       "    <tr>\n",
       "      <th>4</th>\n",
       "      <td>Crested_Auklet_0077_785257.jpg</td>\n",
       "      <td>a large black bird has a gray colored breast, ...</td>\n",
       "    </tr>\n",
       "    <tr>\n",
       "      <th>5</th>\n",
       "      <td>Crested_Auklet_0018_1817.jpg</td>\n",
       "      <td>this bird has an orange bill, with solid brown...</td>\n",
       "    </tr>\n",
       "    <tr>\n",
       "      <th>6</th>\n",
       "      <td>Crested_Auklet_0041_794910.jpg</td>\n",
       "      <td>gray and black feathered bird with feathers ha...</td>\n",
       "    </tr>\n",
       "    <tr>\n",
       "      <th>7</th>\n",
       "      <td>Crested_Auklet_0066_785251.jpg</td>\n",
       "      <td>this unusual bird has a plume above its orange...</td>\n",
       "    </tr>\n",
       "    <tr>\n",
       "      <th>8</th>\n",
       "      <td>Crested_Auklet_0047_794918.jpg</td>\n",
       "      <td>the bird has a tiny eye ring that is white and...</td>\n",
       "    </tr>\n",
       "    <tr>\n",
       "      <th>9</th>\n",
       "      <td>Crested_Auklet_0044_1825.jpg</td>\n",
       "      <td>medium sized gray bird with medium orange beak...</td>\n",
       "    </tr>\n",
       "    <tr>\n",
       "      <th>10</th>\n",
       "      <td>Crested_Auklet_0073_785248.jpg</td>\n",
       "      <td>black bird with white eye, short tail feathers...</td>\n",
       "    </tr>\n",
       "    <tr>\n",
       "      <th>11</th>\n",
       "      <td>Crested_Auklet_0013_794914.jpg</td>\n",
       "      <td>this bird is mostly gray, with a short orange ...</td>\n",
       "    </tr>\n",
       "    <tr>\n",
       "      <th>12</th>\n",
       "      <td>Crested_Auklet_0039_794944.jpg</td>\n",
       "      <td>small black bird with a small curved orange be...</td>\n",
       "    </tr>\n",
       "    <tr>\n",
       "      <th>13</th>\n",
       "      <td>Crested_Auklet_0021_794938.jpg</td>\n",
       "      <td>this bird is all black with an orange beak and...</td>\n",
       "    </tr>\n",
       "    <tr>\n",
       "      <th>14</th>\n",
       "      <td>Crested_Auklet_0028_794951.jpg</td>\n",
       "      <td>the mainly gray bird has a white eye with a wh...</td>\n",
       "    </tr>\n",
       "    <tr>\n",
       "      <th>15</th>\n",
       "      <td>Crested_Auklet_0067_785249.jpg</td>\n",
       "      <td>a tall erect bird, mostly black, with webbed f...</td>\n",
       "    </tr>\n",
       "    <tr>\n",
       "      <th>16</th>\n",
       "      <td>Crested_Auklet_0076_785252.jpg</td>\n",
       "      <td>this intense looking bird is medium in size, h...</td>\n",
       "    </tr>\n",
       "    <tr>\n",
       "      <th>17</th>\n",
       "      <td>Crested_Auklet_0059_794929.jpg</td>\n",
       "      <td>this bird is black and white in color, with a ...</td>\n",
       "    </tr>\n",
       "    <tr>\n",
       "      <th>18</th>\n",
       "      <td>Crested_Auklet_0012_794960.jpg</td>\n",
       "      <td>the bird is dark gray in color, has a stubby b...</td>\n",
       "    </tr>\n",
       "    <tr>\n",
       "      <th>19</th>\n",
       "      <td>Crested_Auklet_0003_794962.jpg</td>\n",
       "      <td>this bird is mostly gray with a bright orange ...</td>\n",
       "    </tr>\n",
       "  </tbody>\n",
       "</table>\n",
       "</div>"
      ],
      "text/plain": [
       "                            images  \\\n",
       "0   Crested_Auklet_0001_794941.jpg   \n",
       "1     Crested_Auklet_0029_1824.jpg   \n",
       "2   Crested_Auklet_0074_794949.jpg   \n",
       "3   Crested_Auklet_0045_794940.jpg   \n",
       "4   Crested_Auklet_0077_785257.jpg   \n",
       "5     Crested_Auklet_0018_1817.jpg   \n",
       "6   Crested_Auklet_0041_794910.jpg   \n",
       "7   Crested_Auklet_0066_785251.jpg   \n",
       "8   Crested_Auklet_0047_794918.jpg   \n",
       "9     Crested_Auklet_0044_1825.jpg   \n",
       "10  Crested_Auklet_0073_785248.jpg   \n",
       "11  Crested_Auklet_0013_794914.jpg   \n",
       "12  Crested_Auklet_0039_794944.jpg   \n",
       "13  Crested_Auklet_0021_794938.jpg   \n",
       "14  Crested_Auklet_0028_794951.jpg   \n",
       "15  Crested_Auklet_0067_785249.jpg   \n",
       "16  Crested_Auklet_0076_785252.jpg   \n",
       "17  Crested_Auklet_0059_794929.jpg   \n",
       "18  Crested_Auklet_0012_794960.jpg   \n",
       "19  Crested_Auklet_0003_794962.jpg   \n",
       "\n",
       "                                             captions  \n",
       "0   this bird is black all over its body with oran...  \n",
       "1   the bill of the bird is bright orange and the ...  \n",
       "2   this bird has smooth, dary gray feathers and a...  \n",
       "3   this bird's head and body are all gray, but th...  \n",
       "4   a large black bird has a gray colored breast, ...  \n",
       "5   this bird has an orange bill, with solid brown...  \n",
       "6   gray and black feathered bird with feathers ha...  \n",
       "7   this unusual bird has a plume above its orange...  \n",
       "8   the bird has a tiny eye ring that is white and...  \n",
       "9   medium sized gray bird with medium orange beak...  \n",
       "10  black bird with white eye, short tail feathers...  \n",
       "11  this bird is mostly gray, with a short orange ...  \n",
       "12  small black bird with a small curved orange be...  \n",
       "13  this bird is all black with an orange beak and...  \n",
       "14  the mainly gray bird has a white eye with a wh...  \n",
       "15  a tall erect bird, mostly black, with webbed f...  \n",
       "16  this intense looking bird is medium in size, h...  \n",
       "17  this bird is black and white in color, with a ...  \n",
       "18  the bird is dark gray in color, has a stubby b...  \n",
       "19  this bird is mostly gray with a bright orange ...  "
      ]
     },
     "execution_count": 4,
     "metadata": {},
     "output_type": "execute_result"
    }
   ],
   "source": [
    "caps.head(20)"
   ]
  },
  {
   "cell_type": "code",
   "execution_count": 5,
   "metadata": {},
   "outputs": [],
   "source": [
    "def create_image_csv():\n",
    "    rootdir = 'images/birds/CUB_200_2011/images'\n",
    "    df = pd.DataFrame(columns=['images'])\n",
    "    for subdir, dirs, files in os.walk(rootdir):\n",
    "        for file in files:\n",
    "            filepath = subdir + os.sep + file\n",
    "            if filepath.endswith(\".jpg\") or filepath.endswith(\".jpeg\") or filepath.endswith(\".png\"):\n",
    "                df.loc[len(df)] = [file]\n",
    "    df.to_csv(\"intermediate_results.csv\", index=False)"
   ]
  },
  {
   "cell_type": "code",
   "execution_count": 6,
   "metadata": {},
   "outputs": [],
   "source": [
    "def create_final_csv():\n",
    "    rootdir = '/captions/text_c10'\n",
    "    images = pd.read_csv('intermediate_results.csv')\n",
    "    images['captions'] = 'abc'\n",
    "    print(images.head())\n",
    "    for subdir, dirs, files in os.walk(rootdir):\n",
    "        for file in files:\n",
    "            filepath = subdir + os.sep + file\n",
    "            if filepath.endswith(\".txt\"):\n",
    "                with open(filepath) as f:\n",
    "                    content = f.readlines()\n",
    "                content = [x.strip() for x in content]\n",
    "                t = file.replace('.txt', '.jpg')\n",
    "                images.loc[images['images'] == t, 'captions'] = content[random.randint(0, 1)]\n",
    "    images.to_csv(\"final.csv\", index=False)\n"
   ]
  },
  {
   "cell_type": "code",
   "execution_count": 7,
   "metadata": {},
   "outputs": [],
   "source": [
    "def clean_and_tokenize_comments_for_image(comment):\n",
    "    stop_words = ['a', 'and', 'of', 'to']\n",
    "    punctuation = r\"\"\"!\"#$%&'()*+,./:;<=>?@[\\]^_`…’{|}~\"\"\"\n",
    "    comments_without_punctuation = [s.translate(str.maketrans(' ', ' ', punctuation)) for s in comment]\n",
    "    sentences = []\n",
    "\n",
    "    for q_w_c in comments_without_punctuation:\n",
    "        q_w_c = re.sub(r\"-(?:(?<!\\b[0-9]{4}-)|(?![0-9]{2}(?:[0-9]{2})?\\b))\", ' ', q_w_c)  # replace with space\n",
    "\n",
    "        temp_tokens = word_tokenize(str(q_w_c).lower())\n",
    "        tokens = [t for t in temp_tokens if t not in stop_words]\n",
    "        sentences.append(tokens)\n",
    "    return sentences\n"
   ]
  },
  {
   "cell_type": "code",
   "execution_count": 8,
   "metadata": {},
   "outputs": [],
   "source": [
    "def create_feature_vectors_for_single_comment(word2vec_model, cleaned_comments, image_names):\n",
    "    vectorized_list = []\n",
    "    image_list = []\n",
    "\n",
    "    for comments, image in tqdm(zip(cleaned_comments, image_names)):\n",
    "        result_array = np.empty((0, 768))\n",
    "        for word in comments:\n",
    "            #print(word)\n",
    "            w = bert_preprocess_model([word])\n",
    "            w = word2vec_model(w)\n",
    "            w = w['pooled_output']\n",
    "            #print(len(w))\n",
    "            #print(w.numpy())\n",
    "            result_array = np.append(result_array, w, axis=0)\n",
    "\n",
    "        vectorized_list.append(np.mean(result_array, axis=0).astype('float32'))\n",
    "        image_list.append(image)\n",
    "\n",
    "    return image_list, np.array(vectorized_list)\n",
    "\n"
   ]
  },
  {
   "cell_type": "code",
   "execution_count": 9,
   "metadata": {},
   "outputs": [],
   "source": [
    "from tqdm import tqdm"
   ]
  },
  {
   "cell_type": "code",
   "execution_count": 10,
   "metadata": {},
   "outputs": [],
   "source": [
    "def create_sentence_embeddings():\n",
    "    df = pd.read_csv('final.csv')\n",
    "    df = df[1:10]\n",
    "    model = bert_model\n",
    "    cleaned_captions = df['captions'].values\n",
    "    cleaned_captions = bert_preprocess_model(cleaned_captions)\n",
    "    image_names = df['images'].values\n",
    "    print('Done tokenizing....')\n",
    "    i, c = create_feature_vectors_for_single_comment(model, cleaned_captions, image_names)\n",
    "    word_vector_dict = dict(zip(i, c))\n",
    "    pickle.dump(word_vector_dict, open('1_test_word_vector_min_bird' + \".p\", \"wb\"))\n",
    "    print('Done')\n",
    "    print(i)\n",
    "    print()\n",
    "    return c\n"
   ]
  },
  {
   "cell_type": "code",
   "execution_count": 11,
   "metadata": {
    "scrolled": false
   },
   "outputs": [
    {
     "ename": "NameError",
     "evalue": "name 'bert_model' is not defined",
     "output_type": "error",
     "traceback": [
      "\u001b[0;31m---------------------------------------------------------------------------\u001b[0m",
      "\u001b[0;31mNameError\u001b[0m                                 Traceback (most recent call last)",
      "Input \u001b[0;32mIn [11]\u001b[0m, in \u001b[0;36m<module>\u001b[0;34m\u001b[0m\n\u001b[0;32m----> 1\u001b[0m c \u001b[38;5;241m=\u001b[39m \u001b[43mcreate_sentence_embeddings\u001b[49m\u001b[43m(\u001b[49m\u001b[43m)\u001b[49m\n",
      "Input \u001b[0;32mIn [10]\u001b[0m, in \u001b[0;36mcreate_sentence_embeddings\u001b[0;34m()\u001b[0m\n\u001b[1;32m      2\u001b[0m df \u001b[38;5;241m=\u001b[39m pd\u001b[38;5;241m.\u001b[39mread_csv(\u001b[38;5;124m'\u001b[39m\u001b[38;5;124mfinal.csv\u001b[39m\u001b[38;5;124m'\u001b[39m)\n\u001b[1;32m      3\u001b[0m df \u001b[38;5;241m=\u001b[39m df[\u001b[38;5;241m1\u001b[39m:\u001b[38;5;241m10\u001b[39m]\n\u001b[0;32m----> 4\u001b[0m model \u001b[38;5;241m=\u001b[39m \u001b[43mbert_model\u001b[49m\n\u001b[1;32m      5\u001b[0m cleaned_captions \u001b[38;5;241m=\u001b[39m df[\u001b[38;5;124m'\u001b[39m\u001b[38;5;124mcaptions\u001b[39m\u001b[38;5;124m'\u001b[39m]\u001b[38;5;241m.\u001b[39mvalues\n\u001b[1;32m      6\u001b[0m cleaned_captions \u001b[38;5;241m=\u001b[39m bert_preprocess_model(cleaned_captions)\n",
      "\u001b[0;31mNameError\u001b[0m: name 'bert_model' is not defined"
     ]
    }
   ],
   "source": [
    "c = create_sentence_embeddings()"
   ]
  },
  {
   "cell_type": "code",
   "execution_count": 181,
   "metadata": {
    "scrolled": true
   },
   "outputs": [
    {
     "data": {
      "text/plain": [
       "array([-8.80453765e-01, -2.30016977e-01,  1.53982677e-02,  7.63145745e-01,\n",
       "       -1.67636186e-01, -1.12899035e-01,  9.20433581e-01,  2.31789663e-01,\n",
       "       -1.92173526e-01, -9.99809325e-01, -1.48938507e-01,  5.04856467e-01,\n",
       "        9.74133551e-01,  2.51672100e-02,  9.12574768e-01, -6.27402663e-01,\n",
       "       -3.41317058e-01, -5.57229817e-01,  3.86493057e-01, -8.32161784e-01,\n",
       "        5.95441282e-01,  8.90097916e-01,  4.09509450e-01,  2.50163227e-01,\n",
       "        3.93467665e-01,  5.93674242e-01, -6.57673061e-01,  9.15036798e-01,\n",
       "        9.51860309e-01,  7.05915213e-01, -7.49266684e-01,  1.42062679e-01,\n",
       "       -9.77758586e-01, -2.60669142e-01, -1.55464560e-01, -9.79721069e-01,\n",
       "        1.93323925e-01, -7.69981802e-01, -9.83245596e-02,  2.95864381e-02,\n",
       "       -8.72071326e-01,  2.98111081e-01,  9.95922685e-01,  2.26048753e-01,\n",
       "        9.48943347e-02, -3.52533966e-01, -9.99241948e-01,  2.67680496e-01,\n",
       "       -8.80547166e-01,  2.29656994e-01,  1.56744406e-01, -3.83794233e-02,\n",
       "        1.54842883e-01,  4.10892785e-01,  4.32878345e-01,  2.77051806e-01,\n",
       "       -1.26063168e-01,  1.05151318e-01, -1.20240554e-01, -5.75469494e-01,\n",
       "       -5.82406163e-01,  3.11504900e-01, -2.16019571e-01, -8.77511382e-01,\n",
       "        1.88881099e-01, -1.96082413e-01, -9.12517831e-02, -1.99827895e-01,\n",
       "        7.07085105e-03, -5.99269308e-02,  8.59454513e-01,  1.55581653e-01,\n",
       "        2.55471617e-01, -7.69784927e-01, -8.00335184e-02,  1.71866283e-01,\n",
       "       -6.24659777e-01,  9.99961853e-01, -5.86809397e-01, -9.69742000e-01,\n",
       "       -5.30491509e-02,  3.83228483e-03,  5.26301026e-01,  3.91498595e-01,\n",
       "       -2.09871814e-01, -9.99847651e-01,  4.50981826e-01, -9.65828672e-02,\n",
       "       -9.84176159e-01,  1.81323260e-01,  3.74678403e-01, -2.23348811e-01,\n",
       "       -2.78360933e-01,  4.80318844e-01, -3.10938448e-01, -2.59735644e-01,\n",
       "       -3.37920517e-01,  8.21603171e-04, -2.34830663e-01, -1.45366967e-01,\n",
       "        8.19220021e-02, -1.97157651e-01, -6.95125610e-02, -3.61513615e-01,\n",
       "        2.15650231e-01, -3.76727879e-01, -4.95858014e-01,  2.90638179e-01,\n",
       "       -2.61082619e-01,  6.50961041e-01,  4.02054161e-01, -2.60238439e-01,\n",
       "        3.67120296e-01, -9.51097190e-01,  5.91515958e-01, -1.98343113e-01,\n",
       "       -9.71337318e-01, -5.65517545e-01, -9.80491877e-01,  7.09538043e-01,\n",
       "       -1.49333894e-01, -1.58831924e-01,  9.45483029e-01,  2.92326093e-01,\n",
       "        2.65603542e-01, -5.56376502e-02, -1.24673292e-01, -9.99982238e-01,\n",
       "       -4.98333573e-01, -3.81835163e-01,  1.58755630e-01, -1.43947557e-01,\n",
       "       -9.65010941e-01, -9.38152313e-01,  5.70341170e-01,  9.40006912e-01,\n",
       "        1.62885293e-01,  9.92381215e-01, -2.85812289e-01,  9.12721992e-01,\n",
       "       -1.74228549e-02, -3.11304063e-01, -8.08087736e-02, -3.95101398e-01,\n",
       "        4.81125981e-01,  5.60868144e-01, -7.57838190e-01,  2.26778656e-01,\n",
       "       -9.34472904e-02,  3.15034948e-02, -1.74440235e-01, -2.80600965e-01,\n",
       "       -4.31810282e-02, -9.16801214e-01, -4.28465188e-01,  9.33690965e-01,\n",
       "        1.69587761e-01, -1.29056215e-01,  5.24189889e-01, -2.63950288e-01,\n",
       "       -4.53741968e-01,  8.22614193e-01,  4.66421396e-01,  3.39254558e-01,\n",
       "       -8.45761150e-02,  3.94497246e-01,  3.92881036e-02,  4.73652571e-01,\n",
       "       -8.50350320e-01,  1.59737349e-01,  3.63531709e-01, -2.73319781e-01,\n",
       "       -9.77459271e-03, -9.66823697e-01, -3.28776777e-01,  4.89139616e-01,\n",
       "        9.82344329e-01,  7.43519425e-01,  1.67659357e-01,  2.87553787e-01,\n",
       "       -1.98833376e-01,  3.36682081e-01, -9.23790514e-01,  9.62900639e-01,\n",
       "       -2.52083212e-01,  1.93947464e-01,  4.74669129e-01, -1.57359019e-01,\n",
       "       -8.80155325e-01, -2.85705864e-01,  8.50389242e-01, -1.75189227e-01,\n",
       "       -8.44866455e-01, -4.01739515e-02, -4.83462155e-01, -3.62090886e-01,\n",
       "       -5.19712195e-02,  6.22924566e-01, -1.95959553e-01, -3.72283012e-01,\n",
       "       -9.64309052e-02,  8.78189862e-01,  9.69230950e-01,  7.94695258e-01,\n",
       "       -2.17274353e-01,  5.83401918e-01, -8.97849441e-01, -4.99798775e-01,\n",
       "        1.34419411e-01,  2.60206789e-01,  1.61342382e-01,  9.89440918e-01,\n",
       "       -3.33645530e-02, -1.43169940e-01, -9.05669749e-01, -9.77330387e-01,\n",
       "        5.21452911e-02, -8.86295915e-01, -5.84830940e-02, -6.78180814e-01,\n",
       "        3.56054783e-01,  6.64208710e-01,  4.78770360e-02,  3.81819487e-01,\n",
       "       -9.83062446e-01, -7.61405647e-01,  2.95404553e-01, -3.38265955e-01,\n",
       "        3.48766744e-01, -1.97353199e-01,  1.09244935e-01,  3.06839556e-01,\n",
       "       -5.88864446e-01,  8.29047263e-01,  8.68932068e-01,  1.71525925e-01,\n",
       "       -7.35009491e-01,  8.51148307e-01, -3.25095803e-01,  8.66294026e-01,\n",
       "       -6.01488590e-01,  9.66577828e-01,  3.54924738e-01,  6.39811277e-01,\n",
       "       -9.21796322e-01,  1.57003462e-01, -9.12463844e-01, -7.16707259e-02,\n",
       "       -1.70224771e-01, -4.98019695e-01,  1.44815519e-01,  5.67531586e-01,\n",
       "        2.87521541e-01,  6.14224195e-01, -5.64075232e-01,  9.94957328e-01,\n",
       "       -6.29881099e-02, -9.34747159e-01,  5.54220200e-01, -2.11754054e-01,\n",
       "       -9.77951109e-01,  2.71397412e-01,  2.88977623e-01, -3.89038742e-01,\n",
       "       -3.91004741e-01, -3.56953144e-01, -9.30561066e-01,  9.18217123e-01,\n",
       "        1.28633559e-01,  9.86722648e-01,  2.00015992e-01, -9.36000824e-01,\n",
       "       -3.92773002e-01, -8.75337780e-01, -1.06749311e-01, -7.13189319e-02,\n",
       "        3.57307464e-01, -1.67331904e-01, -9.38466966e-01,  4.40262258e-01,\n",
       "        5.06743670e-01,  4.01247531e-01,  2.14894488e-01,  9.93849218e-01,\n",
       "        9.91616964e-01,  9.65101063e-01,  8.59126866e-01,  8.83121252e-01,\n",
       "       -8.06268036e-01,  2.92547524e-01,  9.99889493e-01, -6.24044478e-01,\n",
       "       -9.99511600e-01, -9.25504804e-01, -6.13347590e-01,  4.61226195e-01,\n",
       "       -9.99978721e-01, -4.35862578e-02, -5.63575774e-02, -9.03630733e-01,\n",
       "       -1.23193599e-02,  9.65929747e-01,  9.85314488e-01, -9.99925315e-01,\n",
       "        8.18023086e-01,  9.34401751e-01, -6.25441492e-01,  4.33474094e-01,\n",
       "       -1.15517735e-01,  9.60539162e-01,  4.20662582e-01,  2.10319638e-01,\n",
       "       -1.94298044e-01,  2.61679113e-01, -2.90394723e-01, -8.57349575e-01,\n",
       "        3.76219042e-02,  1.55106738e-01,  5.88076830e-01,  2.07368523e-01,\n",
       "       -7.28735924e-01, -8.98608923e-01, -2.51970261e-01, -1.01329803e-01,\n",
       "       -2.15276599e-01, -9.38434422e-01, -1.67465955e-01, -1.88226134e-01,\n",
       "        7.15597451e-01,  9.98114645e-02,  2.45786130e-01, -7.47976780e-01,\n",
       "        1.92577228e-01, -3.39228004e-01,  4.36852425e-01,  6.28403664e-01,\n",
       "       -8.97152483e-01, -7.05661297e-01, -5.60296357e-01, -3.01484793e-01,\n",
       "        9.85715091e-02, -9.29942667e-01,  9.63285446e-01, -2.89033115e-01,\n",
       "        2.71024317e-01,  9.99940097e-01, -2.87726194e-01, -8.66553664e-01,\n",
       "        3.68165404e-01,  2.35099897e-01, -3.89547825e-01,  9.99905884e-01,\n",
       "        5.68111420e-01, -9.65960324e-01, -5.37417591e-01,  2.14174345e-01,\n",
       "       -3.69943380e-01, -4.46400106e-01,  9.96882021e-01, -1.75380498e-01,\n",
       "        3.96185033e-02,  2.15842038e-01,  9.57530499e-01, -9.80891228e-01,\n",
       "        4.69241440e-01, -9.00335252e-01, -9.46272433e-01,  9.42983091e-01,\n",
       "        9.25438702e-01, -2.12100297e-01, -6.29902184e-01,  7.66361281e-02,\n",
       "       -2.10510582e-01,  2.49523237e-01, -9.47067678e-01,  6.87735081e-01,\n",
       "        5.29013634e-01, -1.82782546e-01,  8.92122090e-01, -9.10025537e-01,\n",
       "       -5.06010354e-01,  3.63316894e-01, -1.09232731e-01,  2.65939206e-01,\n",
       "        2.42671907e-01,  4.59666908e-01, -3.23862642e-01,  6.19740076e-02,\n",
       "       -2.11146951e-01,  1.93632647e-01, -9.56532419e-01,  2.12749362e-01,\n",
       "        9.99873579e-01,  1.31009445e-01, -2.07210526e-01, -1.89908087e-01,\n",
       "       -7.35443085e-02, -2.63732821e-01,  2.73128897e-01,  4.32980269e-01,\n",
       "       -2.25038186e-01, -7.89038599e-01,  4.99954112e-02, -9.32942390e-01,\n",
       "       -9.73070741e-01,  7.63639569e-01,  1.87113822e-01, -3.09123665e-01,\n",
       "        9.96837556e-01,  3.05217206e-01,  1.98344052e-01, -1.22368887e-01,\n",
       "        4.71835315e-01, -1.49252638e-02,  5.69303453e-01, -1.74877137e-01,\n",
       "        9.61008668e-01, -2.57232845e-01,  5.34489751e-01,  8.43871593e-01,\n",
       "       -1.16998672e-01, -3.26318592e-01, -6.18683279e-01,  4.58297320e-02,\n",
       "       -8.90101075e-01, -8.33739787e-02, -9.42334473e-01,  9.50139284e-01,\n",
       "        4.93264906e-02,  3.24228555e-01,  1.96017206e-01,  9.70596820e-02,\n",
       "        9.99930620e-01,  3.66374999e-01,  6.45800948e-01, -7.47105300e-01,\n",
       "        8.90407145e-01, -7.44303763e-01, -7.42500603e-01, -3.09464961e-01,\n",
       "       -2.08001584e-02, -5.59380976e-03, -2.29554608e-01,  3.11805397e-01,\n",
       "       -9.66267705e-01,  5.95647022e-02,  2.00326554e-02, -9.74688530e-01,\n",
       "       -9.84825373e-01,  2.79958844e-01,  7.92584121e-01,  6.14665635e-02,\n",
       "       -4.73468482e-01, -6.69615269e-01, -5.50240636e-01,  2.80475497e-01,\n",
       "       -2.22083390e-01, -9.09992814e-01,  3.85517538e-01, -2.18076855e-01,\n",
       "        5.21199286e-01, -2.35613927e-01,  5.27731359e-01, -9.42211077e-02,\n",
       "        7.29738057e-01,  4.48837370e-01,  1.50048375e-01, -7.33408034e-02,\n",
       "       -8.19662750e-01,  8.19707870e-01, -8.41715693e-01, -1.54426724e-01,\n",
       "       -1.78749129e-01,  9.99975026e-01, -3.81884128e-01,  2.72284001e-01,\n",
       "        7.30699599e-01,  7.00210214e-01, -1.46290243e-01,  1.99640587e-01,\n",
       "        2.05114216e-01,  2.06912100e-01,  1.00090228e-01,  8.23383629e-02,\n",
       "       -8.65192056e-01, -3.20807785e-01,  4.90280867e-01, -2.96179444e-01,\n",
       "       -1.64008841e-01,  7.83830106e-01,  1.35429958e-02,  1.31176114e-01,\n",
       "        4.64188419e-02,  1.48278370e-01,  9.98232186e-01, -2.34221742e-01,\n",
       "       -7.45560676e-02, -5.66452086e-01, -6.33716881e-02, -2.60931760e-01,\n",
       "       -7.15886235e-01,  9.99623895e-01,  3.24440211e-01, -1.37580052e-01,\n",
       "       -9.81491208e-01, -6.80922717e-02, -9.14913177e-01,  9.81398284e-01,\n",
       "        7.72460043e-01, -8.50191236e-01,  4.97678101e-01,  4.87879574e-01,\n",
       "       -1.21589467e-01,  8.09250772e-01, -2.32000455e-01, -2.31448591e-01,\n",
       "        6.61229417e-02,  1.42842367e-01,  9.40303802e-01, -4.58441556e-01,\n",
       "       -9.51286316e-01, -5.73005080e-01,  3.57860029e-01, -9.35118794e-01,\n",
       "        8.09217632e-01, -5.25421321e-01, -2.04097047e-01, -2.24277765e-01,\n",
       "        3.01374257e-01,  8.83164704e-01,  9.79141798e-04, -9.64358449e-01,\n",
       "       -1.50636300e-01,  2.68379785e-02,  9.58737195e-01,  2.08762795e-01,\n",
       "       -5.48031032e-01, -9.07494605e-01,  5.12077920e-02,  2.67167002e-01,\n",
       "        4.13111039e-02, -9.11459029e-01,  9.51420367e-01, -9.75990355e-01,\n",
       "        4.41281319e-01,  9.99710321e-01,  3.27615529e-01, -3.20269793e-01,\n",
       "        2.63846397e-01, -5.04201055e-01,  1.81749582e-01, -3.26382294e-02,\n",
       "        5.91295779e-01, -9.36210454e-01, -2.51662672e-01, -1.50325686e-01,\n",
       "        2.69483179e-01, -2.11471453e-01,  3.76247942e-01,  6.07654274e-01,\n",
       "        1.54238224e-01, -5.12871802e-01, -5.40481269e-01, -1.29259616e-01,\n",
       "        3.58465165e-01,  7.96124995e-01, -2.40997508e-01, -2.07180575e-01,\n",
       "        1.55750290e-01, -1.75655827e-01, -8.90735269e-01, -2.09824160e-01,\n",
       "       -2.80681968e-01, -9.39359665e-01,  6.33977294e-01, -9.99955714e-01,\n",
       "       -1.73266545e-01, -3.48771453e-01, -2.24385709e-01,  7.88768709e-01,\n",
       "       -1.77228540e-01, -7.27730617e-02, -6.98809505e-01,  2.56371815e-02,\n",
       "        7.01412201e-01,  7.18198836e-01, -2.75954813e-01, -1.80623353e-01,\n",
       "       -7.42104530e-01,  2.32816353e-01, -1.13577075e-01,  1.72238290e-01,\n",
       "       -1.36176959e-01,  6.97673619e-01, -1.46991074e-01,  9.99978900e-01,\n",
       "        9.71630067e-02, -5.48564017e-01, -9.68859196e-01,  2.92616487e-01,\n",
       "       -3.06941569e-01,  9.94913995e-01, -9.16791737e-01, -9.30493832e-01,\n",
       "        2.88737655e-01, -4.94466901e-01, -7.91192114e-01,  1.90008670e-01,\n",
       "        9.14912485e-03, -6.41962051e-01, -4.21003878e-01,  9.42713678e-01,\n",
       "        9.04021978e-01, -4.68821436e-01,  2.69322962e-01, -2.79315233e-01,\n",
       "       -5.00710785e-01,  1.01603508e-01, -4.87051345e-02,  9.79506493e-01,\n",
       "        2.08938256e-01,  8.91744256e-01,  7.99809575e-01,  1.69496655e-01,\n",
       "        9.37966049e-01,  2.08653599e-01,  7.03873873e-01,  1.63692415e-01,\n",
       "        9.99683499e-01,  2.81126201e-01, -9.28109169e-01,  1.48453116e-01,\n",
       "       -9.75879550e-01, -1.97389424e-01, -9.44519937e-01,  1.80196792e-01,\n",
       "        1.27985194e-01,  8.55853677e-01, -3.29258949e-01,  9.48341012e-01,\n",
       "        9.38111544e-02,  5.37090153e-02, -2.21780598e-01,  2.84623384e-01,\n",
       "        3.46308172e-01, -8.96481156e-01, -9.77293611e-01, -9.81208324e-01,\n",
       "        3.60633641e-01, -4.39885557e-01, -2.60915589e-02,  2.72721320e-01,\n",
       "        1.53825805e-01,  3.34862500e-01,  3.46766174e-01, -9.99401927e-01,\n",
       "        9.10004377e-01,  4.43370312e-01,  7.86779746e-02,  9.47284698e-01,\n",
       "        2.11832806e-01,  2.03621015e-01,  2.64423519e-01, -9.80728507e-01,\n",
       "       -9.57503676e-01, -3.13907266e-01, -1.99346349e-01,  8.31723213e-01,\n",
       "        6.09730542e-01,  8.24902654e-01,  3.71506691e-01, -5.12145579e-01,\n",
       "       -6.30896613e-02,  3.52403000e-02,  2.25418568e-01, -9.86407340e-01,\n",
       "        3.62513870e-01,  5.49599342e-02, -9.66617763e-01,  9.44864154e-01,\n",
       "       -4.76719141e-01, -2.71122605e-01,  5.44964194e-01,  1.03836574e-01,\n",
       "        9.46267307e-01,  7.58386254e-01,  5.42973876e-01,  8.02935362e-02,\n",
       "        5.07375717e-01,  8.79801810e-01,  9.42357302e-01,  9.83257651e-01,\n",
       "       -1.65411681e-01,  7.80230641e-01,  7.37127513e-02,  2.78799653e-01,\n",
       "        2.96888411e-01, -9.23079848e-01,  1.19074188e-01, -6.59916596e-03,\n",
       "       -2.21848860e-01,  2.73883551e-01, -2.47740015e-01, -9.53292549e-01,\n",
       "        5.25448501e-01, -2.35435039e-01,  5.36641955e-01, -3.35360944e-01,\n",
       "        8.12037811e-02, -4.35863644e-01, -3.00284624e-01, -7.30468512e-01,\n",
       "       -5.43703556e-01,  5.77575803e-01,  5.00675678e-01,  9.09688711e-01,\n",
       "        1.23378135e-01, -6.24788217e-02, -6.85352683e-01, -9.68594849e-02,\n",
       "        2.42555253e-02, -9.14372027e-01,  9.27561104e-01, -8.59253630e-02,\n",
       "        2.84658521e-01, -1.58948433e-02, -1.19637903e-02,  4.12023872e-01,\n",
       "       -2.42120147e-01, -3.44680429e-01, -2.60558099e-01, -7.65620589e-01,\n",
       "        8.20428491e-01, -1.29452050e-02, -4.92897272e-01, -5.63740015e-01,\n",
       "        6.20155632e-01,  3.01663429e-01,  8.89944553e-01, -6.23011310e-03,\n",
       "       -1.11036368e-01, -8.12215433e-02, -1.26108110e-01,  2.46278808e-01,\n",
       "       -4.15876418e-01, -9.99392748e-01,  4.07713711e-01,  7.98859298e-02,\n",
       "       -1.52374543e-02, -3.07587594e-01,  1.46168573e-02, -1.76984966e-01,\n",
       "       -9.72682118e-01, -1.63437232e-01, -1.54282555e-01,  1.13290377e-01,\n",
       "       -5.26515543e-01, -4.79574978e-01,  5.20585597e-01,  2.39529848e-01,\n",
       "        4.00757641e-01,  8.69178474e-01, -2.06473187e-01,  4.61310953e-01,\n",
       "        6.24356449e-01,  9.50849205e-02, -5.81183493e-01,  8.87356818e-01],\n",
       "      dtype=float32)"
      ]
     },
     "execution_count": 181,
     "metadata": {},
     "output_type": "execute_result"
    }
   ],
   "source": [
    "c[0]"
   ]
  },
  {
   "cell_type": "code",
   "execution_count": 64,
   "metadata": {},
   "outputs": [],
   "source": [
    "df = pd.read_csv('final.csv')\n",
    "df = df[1:2]"
   ]
  },
  {
   "cell_type": "code",
   "execution_count": 65,
   "metadata": {},
   "outputs": [
    {
     "data": {
      "text/html": [
       "<div>\n",
       "<style scoped>\n",
       "    .dataframe tbody tr th:only-of-type {\n",
       "        vertical-align: middle;\n",
       "    }\n",
       "\n",
       "    .dataframe tbody tr th {\n",
       "        vertical-align: top;\n",
       "    }\n",
       "\n",
       "    .dataframe thead th {\n",
       "        text-align: right;\n",
       "    }\n",
       "</style>\n",
       "<table border=\"1\" class=\"dataframe\">\n",
       "  <thead>\n",
       "    <tr style=\"text-align: right;\">\n",
       "      <th></th>\n",
       "      <th>images</th>\n",
       "      <th>captions</th>\n",
       "    </tr>\n",
       "  </thead>\n",
       "  <tbody>\n",
       "    <tr>\n",
       "      <th>1</th>\n",
       "      <td>Crested_Auklet_0029_1824.jpg</td>\n",
       "      <td>the bill of the bird is bright orange and the ...</td>\n",
       "    </tr>\n",
       "  </tbody>\n",
       "</table>\n",
       "</div>"
      ],
      "text/plain": [
       "                         images  \\\n",
       "1  Crested_Auklet_0029_1824.jpg   \n",
       "\n",
       "                                            captions  \n",
       "1  the bill of the bird is bright orange and the ...  "
      ]
     },
     "execution_count": 65,
     "metadata": {},
     "output_type": "execute_result"
    }
   ],
   "source": [
    "df"
   ]
  },
  {
   "cell_type": "code",
   "execution_count": 66,
   "metadata": {},
   "outputs": [
    {
     "data": {
      "text/plain": [
       "array(['the bill of the bird is bright orange and the bird has white eye rings as well as black body feathers.'],\n",
       "      dtype=object)"
      ]
     },
     "execution_count": 66,
     "metadata": {},
     "output_type": "execute_result"
    }
   ],
   "source": [
    "df['captions'].values"
   ]
  },
  {
   "cell_type": "markdown",
   "metadata": {},
   "source": [
    "cleaned_captions = clean_and_tokenize_comments_for_image(df['captions'].values)"
   ]
  },
  {
   "cell_type": "code",
   "execution_count": 67,
   "metadata": {},
   "outputs": [],
   "source": [
    "cleaned_captions = df['captions'].values\n",
    "cleaned_captions = bert_preprocess_model(cleaned_captions)"
   ]
  },
  {
   "cell_type": "code",
   "execution_count": 55,
   "metadata": {},
   "outputs": [
    {
     "data": {
      "text/plain": [
       "dict_keys(['input_word_ids', 'input_type_ids', 'input_mask'])"
      ]
     },
     "execution_count": 55,
     "metadata": {},
     "output_type": "execute_result"
    }
   ],
   "source": [
    "cleaned_captions.keys()"
   ]
  },
  {
   "cell_type": "code",
   "execution_count": 60,
   "metadata": {},
   "outputs": [
    {
     "data": {
      "text/html": [
       "<div>\n",
       "<style scoped>\n",
       "    .dataframe tbody tr th:only-of-type {\n",
       "        vertical-align: middle;\n",
       "    }\n",
       "\n",
       "    .dataframe tbody tr th {\n",
       "        vertical-align: top;\n",
       "    }\n",
       "\n",
       "    .dataframe thead th {\n",
       "        text-align: right;\n",
       "    }\n",
       "</style>\n",
       "<table border=\"1\" class=\"dataframe\">\n",
       "  <thead>\n",
       "    <tr style=\"text-align: right;\">\n",
       "      <th></th>\n",
       "      <th>images</th>\n",
       "      <th>captions</th>\n",
       "    </tr>\n",
       "  </thead>\n",
       "  <tbody>\n",
       "  </tbody>\n",
       "</table>\n",
       "</div>"
      ],
      "text/plain": [
       "Empty DataFrame\n",
       "Columns: [images, captions]\n",
       "Index: []"
      ]
     },
     "execution_count": 60,
     "metadata": {},
     "output_type": "execute_result"
    }
   ],
   "source": [
    "df"
   ]
  },
  {
   "cell_type": "code",
   "execution_count": 57,
   "metadata": {},
   "outputs": [
    {
     "data": {
      "text/html": [
       "<div>\n",
       "<style scoped>\n",
       "    .dataframe tbody tr th:only-of-type {\n",
       "        vertical-align: middle;\n",
       "    }\n",
       "\n",
       "    .dataframe tbody tr th {\n",
       "        vertical-align: top;\n",
       "    }\n",
       "\n",
       "    .dataframe thead th {\n",
       "        text-align: right;\n",
       "    }\n",
       "</style>\n",
       "<table border=\"1\" class=\"dataframe\">\n",
       "  <thead>\n",
       "    <tr style=\"text-align: right;\">\n",
       "      <th></th>\n",
       "      <th>images</th>\n",
       "      <th>captions</th>\n",
       "    </tr>\n",
       "  </thead>\n",
       "  <tbody>\n",
       "  </tbody>\n",
       "</table>\n",
       "</div>"
      ],
      "text/plain": [
       "Empty DataFrame\n",
       "Columns: [images, captions]\n",
       "Index: []"
      ]
     },
     "execution_count": 57,
     "metadata": {},
     "output_type": "execute_result"
    }
   ],
   "source": [
    "df"
   ]
  },
  {
   "cell_type": "code",
   "execution_count": null,
   "metadata": {},
   "outputs": [],
   "source": []
  }
 ],
 "metadata": {
  "kernelspec": {
   "display_name": "Python 3",
   "language": "python",
   "name": "python3"
  },
  "language_info": {
   "codemirror_mode": {
    "name": "ipython",
    "version": 3
   },
   "file_extension": ".py",
   "mimetype": "text/x-python",
   "name": "python",
   "nbconvert_exporter": "python",
   "pygments_lexer": "ipython3",
   "version": "3.8.10"
  }
 },
 "nbformat": 4,
 "nbformat_minor": 2
}
